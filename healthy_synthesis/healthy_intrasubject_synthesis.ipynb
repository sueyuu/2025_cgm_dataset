{
  "cells": [
    {
      "cell_type": "code",
      "execution_count": null,
      "metadata": {
        "id": "pkCWIM2OGO_p"
      },
      "outputs": [],
      "source": [
        "import os\n",
        "import numpy as np\n",
        "import concurrent.futures\n",
        "import logging\n",
        "from concurrent.futures import ProcessPoolExecutor, ThreadPoolExecutor"
      ]
    },
    {
      "cell_type": "markdown",
      "metadata": {},
      "source": [
        "# generate aug_data in parallel(spawn version for windows system)"
      ]
    },
    {
      "cell_type": "code",
      "execution_count": 23,
      "metadata": {
        "id": "7-Jo54cI3s0f"
      },
      "outputs": [],
      "source": [
        "normal_generator_base = [\"Colas2019_time_warp_magnitude_warp\", \"Hall2018\", \"Shah2019\"]"
      ]
    },
    {
      "cell_type": "code",
      "execution_count": 8,
      "metadata": {
        "id": "-bhfPZ3DJ8Ho"
      },
      "outputs": [],
      "source": [
        "normal_generator = [\"rgw\"]"
      ]
    },
    {
      "cell_type": "code",
      "execution_count": null,
      "metadata": {},
      "outputs": [],
      "source": [
        "from multiprocess_test import seperate_generator\n",
        "\n",
        "if __name__ == \"__main__\":\n",
        "    # call process_generator_parrallelly for each folder\n",
        "    try:\n",
        "\n",
        "        with ProcessPoolExecutor() as executor:\n",
        "\n",
        "            executor.map(\n",
        "                seperate_generator,\n",
        "                normal_generator_base,\n",
        "                [normal_generator] * len(normal_generator_base),\n",
        "            )\n",
        "\n",
        "    except Exception as e:\n",
        "        logging.error(f\"Error processing outside: {e}\")\n",
        "        raise"
      ]
    }
  ],
  "metadata": {
    "colab": {
      "provenance": []
    },
    "kernelspec": {
      "display_name": "dl",
      "language": "python",
      "name": "python3"
    },
    "language_info": {
      "codemirror_mode": {
        "name": "ipython",
        "version": 3
      },
      "file_extension": ".py",
      "mimetype": "text/x-python",
      "name": "python",
      "nbconvert_exporter": "python",
      "pygments_lexer": "ipython3",
      "version": "3.13.2"
    }
  },
  "nbformat": 4,
  "nbformat_minor": 0
}
