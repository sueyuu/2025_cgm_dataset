{
  "cells": [
    {
      "cell_type": "code",
      "execution_count": 1,
      "metadata": {
        "id": "pkCWIM2OGO_p"
      },
      "outputs": [],
      "source": [
        "import os\n",
        "import numpy as np\n",
        "import concurrent.futures\n",
        "import logging\n",
        "from concurrent.futures import ProcessPoolExecutor, ThreadPoolExecutor\n",
        "import matplotlib.pyplot as plt"
      ]
    },
    {
      "cell_type": "markdown",
      "metadata": {
        "id": "I8AN20e--yVy"
      },
      "source": [
        "# begin of visualization of aug_data"
      ]
    },
    {
      "cell_type": "code",
      "execution_count": 12,
      "metadata": {
        "id": "TqRwQohoNezS"
      },
      "outputs": [],
      "source": [
        "def plot_rows(data, name):\n",
        "    \"\"\"\n",
        "\n",
        "    Plots each row of a 2D NumPy array as a separate line.\n",
        "\n",
        "\n",
        "    Args:\n",
        "\n",
        "      data: A 2D NumPy array where each row is a time series.\n",
        "    \"\"\"\n",
        "\n",
        "    if not isinstance(data, np.ndarray) or data.ndim != 2:\n",
        "\n",
        "        raise ValueError(\"Input must be a 2D NumPy array.\")\n",
        "\n",
        "    num_rows = data.shape[0]\n",
        "\n",
        "    num_cols = data.shape[1]\n",
        "\n",
        "    # if num_col is not specified, we use arange\n",
        "\n",
        "    x_values = np.arange(num_cols)\n",
        "\n",
        "    for i in range(num_rows):\n",
        "\n",
        "        plt.plot(x_values, data[i, :], label=f\"Row {i+1}\")\n",
        "\n",
        "    plt.xlabel(\"Time Point\")\n",
        "\n",
        "    plt.ylabel(\"Value\")\n",
        "    plt.title(name)\n",
        "\n",
        "    plt.grid(True)\n",
        "\n",
        "    plt.show()"
      ]
    },
    {
      "cell_type": "code",
      "execution_count": null,
      "metadata": {},
      "outputs": [],
      "source": [
        "for file in os.listdir(\"Hall2018_rgw\"):\n",
        "    data = np.load(os.path.join(\"Hall2018_rgw\", file))\n",
        "    data = data.reshape(-1, 1440)\n",
        "    plot_rows(data, file)"
      ]
    },
    {
      "cell_type": "code",
      "execution_count": null,
      "metadata": {},
      "outputs": [],
      "source": [
        "for file in os.listdir(\"Hall2018\"):\n",
        "    data = np.load(os.path.join(\"Hall2018\", file))\n",
        "    data = data.reshape(-1, 1440)\n",
        "    plot_rows(data, file)"
      ]
    },
    {
      "cell_type": "markdown",
      "metadata": {
        "id": "_iuNfkp8-4qT"
      },
      "source": [
        "# begin of visualization of point estimators of data and aug_data"
      ]
    },
    {
      "cell_type": "code",
      "execution_count": 17,
      "metadata": {
        "id": "cFkZvhfOqnRd"
      },
      "outputs": [],
      "source": [
        "# point estimation\n",
        "def point_estimation(data):\n",
        "    # reshape data into (1,-1)\n",
        "    data = data.reshape(1, -1)\n",
        "\n",
        "    # filter in data in 70-180\n",
        "    tir_data = data[:, (data[0, :] >= 70) & (data[0, :] <= 180)]\n",
        "\n",
        "    tbr_data = data[:, (data[0, :] < 70)]\n",
        "\n",
        "    tar_data = data[:, (data[0, :] > 180)]\n",
        "\n",
        "    tir_ratio = tir_data.shape[1] / data.shape[1] * 100\n",
        "\n",
        "    tbr_ratio = tbr_data.shape[1] / data.shape[1] * 100\n",
        "\n",
        "    tar_ratio = tar_data.shape[1] / data.shape[1] * 100\n",
        "\n",
        "    mean = np.mean(tir_data)\n",
        "    std = np.std(tir_data)\n",
        "\n",
        "    return tir_ratio, tbr_ratio, tar_ratio, mean, std"
      ]
    },
    {
      "cell_type": "code",
      "execution_count": 27,
      "metadata": {},
      "outputs": [],
      "source": [
        "original_estimator = {\n",
        "    \"tir_ratio\": [],\n",
        "    \"tbr_ratio\": [],\n",
        "    \"tar_ratio\": [],\n",
        "    \"mean\": [],\n",
        "    \"std\": [],\n",
        "}\n",
        "\n",
        "aug_estimator = {\n",
        "    \"tir_ratio\": [],\n",
        "    \"tbr_ratio\": [],\n",
        "    \"tar_ratio\": [],\n",
        "    \"mean\": [],\n",
        "    \"std\": [],\n",
        "}"
      ]
    },
    {
      "cell_type": "code",
      "execution_count": 30,
      "metadata": {},
      "outputs": [],
      "source": [
        "for file in os.listdir(\"Hall2018_rgw\"):\n",
        "\n",
        "    data1 = np.load(os.path.join(\"Hall2018_rgw\", file))\n",
        "\n",
        "    data2 = np.load(os.path.join(\"Hall2018\", file))\n",
        "\n",
        "    tir1_ratio, tbr1_ratio, tar1_ratio, mean1, std1 = point_estimation(data1)\n",
        "\n",
        "    aug_estimator[\"tir_ratio\"].append(tir1_ratio)\n",
        "\n",
        "    aug_estimator[\"tbr_ratio\"].append(tbr1_ratio)\n",
        "\n",
        "    aug_estimator[\"tar_ratio\"].append(tar1_ratio)\n",
        "\n",
        "    aug_estimator[\"mean\"].append(mean1)\n",
        "\n",
        "    aug_estimator[\"std\"].append(std1)\n",
        "\n",
        "    tir2_ratio, tbr2_ratio, tar2_ratio, mean2, std2 = point_estimation(data2)\n",
        "\n",
        "    original_estimator[\"tir_ratio\"].append(tir2_ratio)\n",
        "\n",
        "    original_estimator[\"tbr_ratio\"].append(tbr2_ratio)\n",
        "\n",
        "    original_estimator[\"tar_ratio\"].append(tar2_ratio)\n",
        "\n",
        "    original_estimator[\"mean\"].append(mean2)\n",
        "\n",
        "    original_estimator[\"std\"].append(std1)"
      ]
    },
    {
      "cell_type": "code",
      "execution_count": 31,
      "metadata": {},
      "outputs": [],
      "source": [
        "for file in os.listdir(\"Shah2019_rgw\"):\n",
        "\n",
        "    data1 = np.load(os.path.join(\"Shah2019_rgw\", file))\n",
        "\n",
        "    data2 = np.load(os.path.join(\"Shah2019\", file))\n",
        "\n",
        "    tir1_ratio, tbr1_ratio, tar1_ratio, mean1, std1 = point_estimation(data1)\n",
        "\n",
        "    aug_estimator[\"tir_ratio\"].append(tir1_ratio)\n",
        "\n",
        "    aug_estimator[\"tbr_ratio\"].append(tbr1_ratio)\n",
        "\n",
        "    aug_estimator[\"tar_ratio\"].append(tar1_ratio)\n",
        "\n",
        "    aug_estimator[\"mean\"].append(mean1)\n",
        "\n",
        "    aug_estimator[\"std\"].append(std1)\n",
        "\n",
        "    tir2_ratio, tbr2_ratio, tar2_ratio, mean2, std2 = point_estimation(data2)\n",
        "\n",
        "    original_estimator[\"tir_ratio\"].append(tir2_ratio)\n",
        "\n",
        "    original_estimator[\"tbr_ratio\"].append(tbr2_ratio)\n",
        "\n",
        "    original_estimator[\"tar_ratio\"].append(tar2_ratio)\n",
        "\n",
        "    original_estimator[\"mean\"].append(mean2)\n",
        "\n",
        "    original_estimator[\"std\"].append(std2)"
      ]
    },
    {
      "cell_type": "code",
      "execution_count": 33,
      "metadata": {},
      "outputs": [],
      "source": [
        "for file in os.listdir(\"Colas2019_time_warp_magnitude_warp_rgw\"):\n",
        "    data1 = np.load(os.path.join(\"Colas2019_time_warp_magnitude_warp_rgw\", file))\n",
        "    data2 = np.load(os.path.join(\"Colas2019_time_warp_magnitude_warp\", file))\n",
        "\n",
        "    tir1_ratio, tbr1_ratio, tar1_ratio, mean1, std1 = point_estimation(data1)\n",
        "    aug_estimator[\"tir_ratio\"].append(tir1_ratio)\n",
        "    aug_estimator[\"tbr_ratio\"].append(tbr1_ratio)\n",
        "    aug_estimator[\"tar_ratio\"].append(tar1_ratio)\n",
        "    aug_estimator[\"mean\"].append(mean1)\n",
        "    aug_estimator[\"std\"].append(std1)\n",
        "\n",
        "    tir2_ratio, tbr2_ratio, tar2_ratio, mean2, std2 = point_estimation(data2)\n",
        "    original_estimator[\"tir_ratio\"].append(tir2_ratio)\n",
        "    original_estimator[\"tbr_ratio\"].append(tbr2_ratio)\n",
        "    original_estimator[\"tar_ratio\"].append(tar2_ratio)\n",
        "    original_estimator[\"mean\"].append(mean2)\n",
        "    original_estimator[\"std\"].append(std2)"
      ]
    },
    {
      "cell_type": "code",
      "execution_count": 19,
      "metadata": {
        "id": "OyvRICRf5GFy"
      },
      "outputs": [],
      "source": [
        "def plot_scatter(x, y):\n",
        "    plt.scatter(x, y)\n",
        "    plt.xlabel(\"x\")\n",
        "    plt.ylabel(\"y\")\n",
        "    plt.title(\"Scatter Plot\")\n",
        "    plt.show()"
      ]
    },
    {
      "cell_type": "code",
      "execution_count": null,
      "metadata": {
        "colab": {
          "base_uri": "https://localhost:8080/",
          "height": 1000
        },
        "collapsed": true,
        "id": "rwDprLyS5ypn",
        "outputId": "9680c181-4303-4898-af23-eda5abef2521"
      },
      "outputs": [],
      "source": [
        "for aug, original in zip(aug_estimator.values(), original_estimator.values()):\n",
        "    plot_scatter(aug, original)"
      ]
    },
    {
      "cell_type": "markdown",
      "metadata": {},
      "source": [
        "# generate aug_data in parallel(spawn version for windows system)"
      ]
    },
    {
      "cell_type": "code",
      "execution_count": 23,
      "metadata": {
        "id": "7-Jo54cI3s0f"
      },
      "outputs": [],
      "source": [
        "normal_generator_base = [\"Colas2019_time_warp_magnitude_warp\", \"Hall2018\", \"Shah2019\"]"
      ]
    },
    {
      "cell_type": "code",
      "execution_count": 8,
      "metadata": {
        "id": "-bhfPZ3DJ8Ho"
      },
      "outputs": [],
      "source": [
        "normal_generator = [\"rgw\"]"
      ]
    },
    {
      "cell_type": "code",
      "execution_count": null,
      "metadata": {},
      "outputs": [],
      "source": [
        "from multiprocess_test import seperate_generator\n",
        "\n",
        "if __name__ == \"__main__\":\n",
        "    # call process_generator_parrallelly for each folder\n",
        "    try:\n",
        "\n",
        "        with ProcessPoolExecutor() as executor:\n",
        "\n",
        "            executor.map(\n",
        "                seperate_generator,\n",
        "                normal_generator_base,\n",
        "                [normal_generator] * len(normal_generator_base),\n",
        "            )\n",
        "\n",
        "    except Exception as e:\n",
        "        logging.error(f\"Error processing outside: {e}\")\n",
        "        raise"
      ]
    }
  ],
  "metadata": {
    "colab": {
      "provenance": []
    },
    "kernelspec": {
      "display_name": "nlp",
      "language": "python",
      "name": "python3"
    },
    "language_info": {
      "codemirror_mode": {
        "name": "ipython",
        "version": 3
      },
      "file_extension": ".py",
      "mimetype": "text/x-python",
      "name": "python",
      "nbconvert_exporter": "python",
      "pygments_lexer": "ipython3",
      "version": "3.12.5"
    }
  },
  "nbformat": 4,
  "nbformat_minor": 0
}
