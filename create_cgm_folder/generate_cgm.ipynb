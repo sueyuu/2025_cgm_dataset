{
 "cells": [
  {
   "cell_type": "code",
   "execution_count": 1,
   "id": "f0b742b8",
   "metadata": {},
   "outputs": [],
   "source": [
    "import pandas as pd\n",
    "from IPython.display import display\n",
    "import concurrent.futures\n",
    "from concurrent.futures import ThreadPoolExecutor, ProcessPoolExecutor\n",
    "import logging\n",
    "from cgm_processing_to_daily_npy import chunk_id_and_time"
   ]
  },
  {
   "cell_type": "code",
   "execution_count": 2,
   "id": "3f671de5",
   "metadata": {},
   "outputs": [],
   "source": [
    "trials = [\"Shah2019\"]"
   ]
  },
  {
   "cell_type": "code",
   "execution_count": 3,
   "id": "be5d4485",
   "metadata": {},
   "outputs": [],
   "source": [
    "df_dictionary = {trial: pd.read_csv(f\"{trial}.csv\") for trial in trials}"
   ]
  },
  {
   "cell_type": "code",
   "execution_count": 4,
   "id": "074ecb75",
   "metadata": {},
   "outputs": [],
   "source": [
    "if __name__ == \"__main__\":\n",
    "    # call process_generator_parrallelly for each folder\n",
    "    try:\n",
    "\n",
    "        with ProcessPoolExecutor() as executor:\n",
    "\n",
    "            executor.map(\n",
    "                chunk_id_and_time,\n",
    "                df_dictionary.keys(),\n",
    "                df_dictionary.values(),\n",
    "                [True] * len(df_dictionary),\n",
    "            )\n",
    "\n",
    "    except Exception as e:\n",
    "        logging.error(f\"Error processing outside: {e}\")\n",
    "        raise"
   ]
  },
  {
   "cell_type": "markdown",
   "id": "baa0586c",
   "metadata": {},
   "source": [
    "for check for the shape of npy\n",
    "should be(-1, 1440, 1)"
   ]
  },
  {
   "cell_type": "code",
   "execution_count": 8,
   "id": "0ce74863",
   "metadata": {},
   "outputs": [
    {
     "name": "stdout",
     "output_type": "stream",
     "text": [
      "(5, 1440, 1)\n"
     ]
    }
   ],
   "source": [
    "import numpy as np\n",
    "\n",
    "test = np.load(\"Shah2019/1.0_0.npy\")\n",
    "print(test.shape)"
   ]
  }
 ],
 "metadata": {
  "kernelspec": {
   "display_name": "dl",
   "language": "python",
   "name": "python3"
  },
  "language_info": {
   "codemirror_mode": {
    "name": "ipython",
    "version": 3
   },
   "file_extension": ".py",
   "mimetype": "text/x-python",
   "name": "python",
   "nbconvert_exporter": "python",
   "pygments_lexer": "ipython3",
   "version": "3.9.21"
  }
 },
 "nbformat": 4,
 "nbformat_minor": 5
}
