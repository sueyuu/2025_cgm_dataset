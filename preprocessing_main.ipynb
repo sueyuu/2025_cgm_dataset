{
 "cells": [
  {
   "cell_type": "code",
   "execution_count": 1,
   "metadata": {},
   "outputs": [],
   "source": [
    "import os\n",
    "import pandas as pd\n",
    "import numpy as np\n",
    "import concurrent.futures\n",
    "import logging\n",
    "from concurrent.futures import ProcessPoolExecutor, ThreadPoolExecutor"
   ]
  },
  {
   "cell_type": "code",
   "execution_count": 2,
   "metadata": {},
   "outputs": [],
   "source": [
    "trials = [\"Tamborlane2008\"]\n",
    "\n",
    "# trials = ['Aleppo2017', 'Brown2019', 'Lynch2022', 'Tamborlane2008', 'Wadwa2023']\n",
    "\n",
    "# open csv files in trials list\n",
    "df_dictionary = {trial: pd.read_csv(f\"{trial}_filtered.csv\") for trial in trials}"
   ]
  },
  {
   "cell_type": "code",
   "execution_count": null,
   "metadata": {},
   "outputs": [],
   "source": [
    "from cgm_processing_continuous_with_missing import chunk_id\n",
    "\n",
    "if __name__ == \"__main__\":\n",
    "\n",
    "    try:\n",
    "\n",
    "        with ProcessPoolExecutor() as executor:\n",
    "            executor.map(chunk_id, df_dictionary.keys(), df_dictionary.values())\n",
    "\n",
    "    except Exception as e:\n",
    "        logging.error(f\"Error processing outside: {e}\")\n",
    "        raise"
   ]
  },
  {
   "cell_type": "code",
   "execution_count": null,
   "metadata": {},
   "outputs": [],
   "source": []
  }
 ],
 "metadata": {
  "kernelspec": {
   "display_name": "dl",
   "language": "python",
   "name": "python3"
  },
  "language_info": {
   "codemirror_mode": {
    "name": "ipython",
    "version": 3
   },
   "file_extension": ".py",
   "mimetype": "text/x-python",
   "name": "python",
   "nbconvert_exporter": "python",
   "pygments_lexer": "ipython3",
   "version": "3.12.0"
  }
 },
 "nbformat": 4,
 "nbformat_minor": 2
}
