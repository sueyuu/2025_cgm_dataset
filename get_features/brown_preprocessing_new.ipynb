{
 "cells": [
  {
   "cell_type": "code",
   "execution_count": 1,
   "metadata": {
    "id": "Pn8sNlE5F9xW"
   },
   "outputs": [],
   "source": [
    "import pandas as pd"
   ]
  },
  {
   "cell_type": "code",
   "execution_count": 2,
   "metadata": {
    "id": "XGJdEXLGF9xo",
    "vscode": {
     "languageId": "ruby"
    }
   },
   "outputs": [],
   "source": [
    "data = []\n",
    "with open(\"DiabLocalHbA1c_a.txt\", \"r\", encoding=\"utf-16\") as file:\n",
    "    header = file.readline().strip().split(\"|\")\n",
    "    for line in file:\n",
    "        line = line.strip().split(\"|\")\n",
    "        data.append([line[1], line[3], line[5], line[7]])\n",
    "\n",
    "local_hba1c_df = pd.DataFrame(data, columns=[header[1], header[3], header[5], \"hba1c\"])\n",
    "\n",
    "# adding 5000 to each value of first column\n",
    "local_hba1c_df[header[1]] = local_hba1c_df[header[1]].astype(int) + 5000\n",
    "#in second column, in each cell, if the string has '-', replace '-' with ' '\n",
    "local_hba1c_df[header[3]] = local_hba1c_df[header[3]].str.replace(\"-\", \" \")\n",
    "# sort by first and second column\n",
    "local_hba1c_df = local_hba1c_df.sort_values(by=[header[1], header[5]])"
   ]
  },
  {
   "cell_type": "code",
   "execution_count": 3,
   "metadata": {
    "id": "B-WYHdI8F9xw"
   },
   "outputs": [],
   "source": [
    "sample_data = []\n",
    "with open(\"SampleResults_a.txt\", \"r\") as sample_file:\n",
    "    sample_header = sample_file.readline().strip().split(\"|\")\n",
    "    for sample_line in sample_file:\n",
    "        sample_line = sample_line.strip().split(\"|\")\n",
    "        if sample_line[4] == \"GLYHB\":\n",
    "            sample_data.append(\n",
    "                [sample_line[1], sample_line[2], sample_line[3], sample_line[5]]\n",
    "            )\n",
    "\n",
    "sample_df = pd.DataFrame(\n",
    "    sample_data, columns=[sample_header[1], sample_header[2], sample_header[3], \"hba1c\"]\n",
    ")\n",
    "# adding 5000 to each value of first column\n",
    "sample_df[sample_header[1]] = sample_df[sample_header[1]].astype(int) + 5000\n",
    "# sort by first and second column\n",
    "sample_df = sample_df.sort_values(by=[sample_header[1], sample_header[3]])\n",
    "\n",
    "sample_df.columns = local_hba1c_df.columns"
   ]
  },
  {
   "cell_type": "code",
   "execution_count": 4,
   "metadata": {
    "id": "ImAzewOlF9x2"
   },
   "outputs": [],
   "source": [
    "merged_df = pd.merge(\n",
    "    sample_df,\n",
    "    local_hba1c_df,\n",
    "    on=[\"PtID\", \"HbA1cTestDt\"],\n",
    "    how=\"outer\",\n",
    "    suffixes=[\"_sample\", \"_local\"],\n",
    ")\n",
    "\n",
    "\n",
    "merged_df[\"hba1c\"] = merged_df[\"hba1c_sample\"].combine_first(merged_df[\"hba1c_local\"])\n",
    "merged_df[\"Visit\"] = merged_df[\"Visit_sample\"].combine_first(merged_df[\"Visit_local\"])\n",
    "\n",
    "\n",
    "merged_df = merged_df.drop(\n",
    "    columns=[\"hba1c_local\", \"hba1c_sample\", \"Visit_local\", \"Visit_sample\"]\n",
    ")"
   ]
  },
  {
   "cell_type": "code",
   "execution_count": 5,
   "metadata": {
    "id": "B3wv-fShF9x4",
    "vscode": {
     "languageId": "ruby"
    }
   },
   "outputs": [],
   "source": [
    "screening_data = []\n",
    "with open(\"DiabScreening_a.txt\", \"r\", encoding=\"utf-16\") as screening_file:\n",
    "    screening_header = screening_file.readline().strip().split(\"|\")\n",
    "    for screening_line in screening_file:\n",
    "        screening_line = screening_line.strip().split(\"|\")\n",
    "        screening_data.append([\n",
    "        screening_line[1],\n",
    "        screening_line[5], screening_line[6],\n",
    "        screening_line[22], screening_line[23]\n",
    "    ])\n",
    "\n",
    "    screening_df = pd.DataFrame(screening_data, columns=[\n",
    "        screening_header[1], screening_header[5], screening_header[6],\n",
    "        screening_header[22], screening_header[23]])\n",
    "    #add 5000 to each value of first column\n",
    "    screening_df[screening_header[1]] = screening_df[screening_header[1]].astype(int) + 5000\n",
    "    #sort by first column\n",
    "    screening_df = screening_df.sort_values(by=[screening_header[1]])"
   ]
  },
  {
   "cell_type": "code",
   "execution_count": 6,
   "metadata": {
    "id": "cHjwj7yqF9x6",
    "vscode": {
     "languageId": "ruby"
    }
   },
   "outputs": [],
   "source": [
    "roster_data = []\n",
    "with open(\"PtRoster_a.txt\", \"r\", encoding=\"utf-16\") as roster_file:\n",
    "    roster_header = roster_file.readline().strip().split(\"|\")\n",
    "    for roster_line in roster_file:\n",
    "        roster_line = roster_line.strip().split(\"|\")\n",
    "        roster_data.append([\n",
    "        roster_line[0],\n",
    "        roster_line[1], roster_line[2],\n",
    "        roster_line[3], roster_line[4]\n",
    "    ])\n",
    "\n",
    "    roster_df = pd.DataFrame(roster_data, columns=[\n",
    "        roster_header[0], roster_header[1], roster_header[2],\n",
    "        roster_header[3], roster_header[4]])\n",
    "    #add 5000 to each value of first column\n",
    "    roster_df[roster_header[0]] = roster_df[roster_header[0]].astype(int) + 5000\n",
    "    #sort by first column\n",
    "    roster_df = roster_df.sort_values(by=[roster_header[0]])"
   ]
  },
  {
   "cell_type": "code",
   "execution_count": 7,
   "metadata": {
    "id": "-UtIVpjrF9x9",
    "vscode": {
     "languageId": "ruby"
    }
   },
   "outputs": [],
   "source": [
    "merged_screening_roster_df = pd.merge(\n",
    "    screening_df, roster_df, on=\"PtID\", how=\"outer\"\n",
    ")"
   ]
  },
  {
   "cell_type": "code",
   "execution_count": 8,
   "metadata": {
    "id": "pCQN7mCyF9yA",
    "vscode": {
     "languageId": "ruby"
    }
   },
   "outputs": [],
   "source": [
    "merged_df.to_csv('brown2019_hba1c.csv', index=False)\n",
    "merged_screening_roster_df.to_csv('brown2019_demographics.csv', index=False)"
   ]
  },
  {
   "cell_type": "markdown",
   "metadata": {
    "id": "T1tj-qThGEko"
   },
   "source": [
    "# for redo cgm part"
   ]
  },
  {
   "cell_type": "code",
   "execution_count": 9,
   "metadata": {
    "id": "hirsGV4dGs0c"
   },
   "outputs": [],
   "source": [
    "import pandas as pd"
   ]
  },
  {
   "cell_type": "code",
   "execution_count": 10,
   "metadata": {
    "id": "PbOgSlCYGZn8"
   },
   "outputs": [],
   "source": [
    "cgm_data = []\n",
    "with open(\"cgm.txt\", \"r\") as cgm_file:\n",
    "    cgm_header = cgm_file.readline().strip().split(\"|\")\n",
    "    for cgm_line in cgm_file:\n",
    "        cgm_line = cgm_line.strip().split(\"|\")\n",
    "        cgm_data.append(cgm_line)\n",
    "\n",
    "    cgm_df = pd.DataFrame(cgm_data, columns=cgm_header)\n",
    "    # add 5000 to each value of first column\n",
    "    cgm_df[cgm_header[0]] = cgm_df[cgm_header[0]].astype(int) + 5000"
   ]
  },
  {
   "cell_type": "code",
   "execution_count": 38,
   "metadata": {
    "colab": {
     "base_uri": "https://localhost:8080/",
     "height": 206
    },
    "executionInfo": {
     "elapsed": 60,
     "status": "ok",
     "timestamp": 1746511428510,
     "user": {
      "displayName": "So Dude",
      "userId": "04035097424418043678"
     },
     "user_tz": -480
    },
    "id": "lly-cpSSH7Qg",
    "outputId": "301c504d-3da0-4530-80ad-0cbd830dab68"
   },
   "outputs": [
    {
     "data": {
      "application/vnd.microsoft.datawrangler.viewer.v0+json": {
       "columns": [
        {
         "name": "index",
         "rawType": "int64",
         "type": "integer"
        },
        {
         "name": "PtID",
         "rawType": "int32",
         "type": "integer"
        },
        {
         "name": "Period",
         "rawType": "object",
         "type": "string"
        },
        {
         "name": "DataDtTm",
         "rawType": "object",
         "type": "string"
        },
        {
         "name": "CGM",
         "rawType": "object",
         "type": "string"
        }
       ],
       "ref": "dcb2f1b5-f4df-4b8b-bf9e-924741c4312f",
       "rows": [
        [
         "0",
         "5001",
         "1. Baseline",
         "11DEC17 23:59:25",
         "172"
        ],
        [
         "1",
         "5001",
         "1. Baseline",
         "12DEC17 00:04:24",
         "170"
        ],
        [
         "2",
         "5001",
         "1. Baseline",
         "12DEC17 00:09:24",
         "167"
        ],
        [
         "3",
         "5001",
         "1. Baseline",
         "12DEC17 00:14:25",
         "163"
        ],
        [
         "4",
         "5001",
         "1. Baseline",
         "12DEC17 00:19:25",
         "160"
        ]
       ],
       "shape": {
        "columns": 4,
        "rows": 5
       }
      },
      "text/html": [
       "<div>\n",
       "<style scoped>\n",
       "    .dataframe tbody tr th:only-of-type {\n",
       "        vertical-align: middle;\n",
       "    }\n",
       "\n",
       "    .dataframe tbody tr th {\n",
       "        vertical-align: top;\n",
       "    }\n",
       "\n",
       "    .dataframe thead th {\n",
       "        text-align: right;\n",
       "    }\n",
       "</style>\n",
       "<table border=\"1\" class=\"dataframe\">\n",
       "  <thead>\n",
       "    <tr style=\"text-align: right;\">\n",
       "      <th></th>\n",
       "      <th>PtID</th>\n",
       "      <th>Period</th>\n",
       "      <th>DataDtTm</th>\n",
       "      <th>CGM</th>\n",
       "    </tr>\n",
       "  </thead>\n",
       "  <tbody>\n",
       "    <tr>\n",
       "      <th>0</th>\n",
       "      <td>5001</td>\n",
       "      <td>1. Baseline</td>\n",
       "      <td>11DEC17 23:59:25</td>\n",
       "      <td>172</td>\n",
       "    </tr>\n",
       "    <tr>\n",
       "      <th>1</th>\n",
       "      <td>5001</td>\n",
       "      <td>1. Baseline</td>\n",
       "      <td>12DEC17 00:04:24</td>\n",
       "      <td>170</td>\n",
       "    </tr>\n",
       "    <tr>\n",
       "      <th>2</th>\n",
       "      <td>5001</td>\n",
       "      <td>1. Baseline</td>\n",
       "      <td>12DEC17 00:09:24</td>\n",
       "      <td>167</td>\n",
       "    </tr>\n",
       "    <tr>\n",
       "      <th>3</th>\n",
       "      <td>5001</td>\n",
       "      <td>1. Baseline</td>\n",
       "      <td>12DEC17 00:14:25</td>\n",
       "      <td>163</td>\n",
       "    </tr>\n",
       "    <tr>\n",
       "      <th>4</th>\n",
       "      <td>5001</td>\n",
       "      <td>1. Baseline</td>\n",
       "      <td>12DEC17 00:19:25</td>\n",
       "      <td>160</td>\n",
       "    </tr>\n",
       "  </tbody>\n",
       "</table>\n",
       "</div>"
      ],
      "text/plain": [
       "   PtID       Period          DataDtTm  CGM\n",
       "0  5001  1. Baseline  11DEC17 23:59:25  172\n",
       "1  5001  1. Baseline  12DEC17 00:04:24  170\n",
       "2  5001  1. Baseline  12DEC17 00:09:24  167\n",
       "3  5001  1. Baseline  12DEC17 00:14:25  163\n",
       "4  5001  1. Baseline  12DEC17 00:19:25  160"
      ]
     },
     "execution_count": 38,
     "metadata": {},
     "output_type": "execute_result"
    }
   ],
   "source": [
    "cgm_df.head()"
   ]
  },
  {
   "cell_type": "code",
   "execution_count": 37,
   "metadata": {},
   "outputs": [],
   "source": [
    "cgm_df[\"DataDtTm\"] = cgm_df[\"DataDtTm\"].str.replace(\":\", \" \", 1)"
   ]
  },
  {
   "cell_type": "code",
   "execution_count": 39,
   "metadata": {},
   "outputs": [],
   "source": [
    "cgm_df[\"time\"] = pd.to_datetime(cgm_df[\"DataDtTm\"], format=\"mixed\", dayfirst=True)"
   ]
  },
  {
   "cell_type": "code",
   "execution_count": 40,
   "metadata": {
    "colab": {
     "base_uri": "https://localhost:8080/",
     "height": 206
    },
    "executionInfo": {
     "elapsed": 58,
     "status": "ok",
     "timestamp": 1746511466883,
     "user": {
      "displayName": "So Dude",
      "userId": "04035097424418043678"
     },
     "user_tz": -480
    },
    "id": "6tVEfgt_Kgmc",
    "outputId": "111f6270-4376-437e-a8dd-2024f5170896"
   },
   "outputs": [
    {
     "data": {
      "application/vnd.microsoft.datawrangler.viewer.v0+json": {
       "columns": [
        {
         "name": "index",
         "rawType": "int64",
         "type": "integer"
        },
        {
         "name": "PtID",
         "rawType": "int32",
         "type": "integer"
        },
        {
         "name": "Period",
         "rawType": "object",
         "type": "string"
        },
        {
         "name": "DataDtTm",
         "rawType": "object",
         "type": "string"
        },
        {
         "name": "CGM",
         "rawType": "object",
         "type": "string"
        },
        {
         "name": "time",
         "rawType": "datetime64[ns]",
         "type": "datetime"
        }
       ],
       "ref": "0f887a92-952f-4276-bcee-9bd07e49b53d",
       "rows": [
        [
         "0",
         "5001",
         "1. Baseline",
         "11DEC17 23:59:25",
         "172",
         "2017-12-11 23:59:25"
        ],
        [
         "1",
         "5001",
         "1. Baseline",
         "12DEC17 00:04:24",
         "170",
         "2017-12-12 00:04:24"
        ],
        [
         "2",
         "5001",
         "1. Baseline",
         "12DEC17 00:09:24",
         "167",
         "2017-12-12 00:09:24"
        ],
        [
         "3",
         "5001",
         "1. Baseline",
         "12DEC17 00:14:25",
         "163",
         "2017-12-12 00:14:25"
        ],
        [
         "4",
         "5001",
         "1. Baseline",
         "12DEC17 00:19:25",
         "160",
         "2017-12-12 00:19:25"
        ]
       ],
       "shape": {
        "columns": 5,
        "rows": 5
       }
      },
      "text/html": [
       "<div>\n",
       "<style scoped>\n",
       "    .dataframe tbody tr th:only-of-type {\n",
       "        vertical-align: middle;\n",
       "    }\n",
       "\n",
       "    .dataframe tbody tr th {\n",
       "        vertical-align: top;\n",
       "    }\n",
       "\n",
       "    .dataframe thead th {\n",
       "        text-align: right;\n",
       "    }\n",
       "</style>\n",
       "<table border=\"1\" class=\"dataframe\">\n",
       "  <thead>\n",
       "    <tr style=\"text-align: right;\">\n",
       "      <th></th>\n",
       "      <th>PtID</th>\n",
       "      <th>Period</th>\n",
       "      <th>DataDtTm</th>\n",
       "      <th>CGM</th>\n",
       "      <th>time</th>\n",
       "    </tr>\n",
       "  </thead>\n",
       "  <tbody>\n",
       "    <tr>\n",
       "      <th>0</th>\n",
       "      <td>5001</td>\n",
       "      <td>1. Baseline</td>\n",
       "      <td>11DEC17 23:59:25</td>\n",
       "      <td>172</td>\n",
       "      <td>2017-12-11 23:59:25</td>\n",
       "    </tr>\n",
       "    <tr>\n",
       "      <th>1</th>\n",
       "      <td>5001</td>\n",
       "      <td>1. Baseline</td>\n",
       "      <td>12DEC17 00:04:24</td>\n",
       "      <td>170</td>\n",
       "      <td>2017-12-12 00:04:24</td>\n",
       "    </tr>\n",
       "    <tr>\n",
       "      <th>2</th>\n",
       "      <td>5001</td>\n",
       "      <td>1. Baseline</td>\n",
       "      <td>12DEC17 00:09:24</td>\n",
       "      <td>167</td>\n",
       "      <td>2017-12-12 00:09:24</td>\n",
       "    </tr>\n",
       "    <tr>\n",
       "      <th>3</th>\n",
       "      <td>5001</td>\n",
       "      <td>1. Baseline</td>\n",
       "      <td>12DEC17 00:14:25</td>\n",
       "      <td>163</td>\n",
       "      <td>2017-12-12 00:14:25</td>\n",
       "    </tr>\n",
       "    <tr>\n",
       "      <th>4</th>\n",
       "      <td>5001</td>\n",
       "      <td>1. Baseline</td>\n",
       "      <td>12DEC17 00:19:25</td>\n",
       "      <td>160</td>\n",
       "      <td>2017-12-12 00:19:25</td>\n",
       "    </tr>\n",
       "  </tbody>\n",
       "</table>\n",
       "</div>"
      ],
      "text/plain": [
       "   PtID       Period          DataDtTm  CGM                time\n",
       "0  5001  1. Baseline  11DEC17 23:59:25  172 2017-12-11 23:59:25\n",
       "1  5001  1. Baseline  12DEC17 00:04:24  170 2017-12-12 00:04:24\n",
       "2  5001  1. Baseline  12DEC17 00:09:24  167 2017-12-12 00:09:24\n",
       "3  5001  1. Baseline  12DEC17 00:14:25  163 2017-12-12 00:14:25\n",
       "4  5001  1. Baseline  12DEC17 00:19:25  160 2017-12-12 00:19:25"
      ]
     },
     "execution_count": 40,
     "metadata": {},
     "output_type": "execute_result"
    }
   ],
   "source": [
    "cgm_df.head()"
   ]
  },
  {
   "cell_type": "code",
   "execution_count": 41,
   "metadata": {
    "id": "-G9-hGyuKjbU"
   },
   "outputs": [],
   "source": [
    "first_date = cgm_df.groupby(\"PtID\")[\"time\"].min()\n",
    "last_date = cgm_df.groupby(\"PtID\")[\"time\"].max()"
   ]
  },
  {
   "cell_type": "code",
   "execution_count": 42,
   "metadata": {
    "id": "SsplJD6LK0z1"
   },
   "outputs": [],
   "source": [
    "date_diff = (last_date - first_date).dt.days + 1"
   ]
  },
  {
   "cell_type": "code",
   "execution_count": 43,
   "metadata": {
    "id": "2b5V6HErK1cE"
   },
   "outputs": [],
   "source": [
    "# Reset index of date_diff to make 'id' a column\n",
    "date_diff = date_diff.reset_index()\n",
    "\n",
    "# Rename the 'time' column (which represents the date difference)\n",
    "# to something more descriptive, like 'date_diff'\n",
    "date_diff = date_diff.rename(columns={\"time\": \"date_diff\"})\n",
    "\n",
    "# Now, merge date_diff with cgm using 'id' as the key\n",
    "cgm_df = pd.merge(cgm_df, date_diff, on=\"PtID\", how=\"left\")"
   ]
  },
  {
   "cell_type": "code",
   "execution_count": 44,
   "metadata": {
    "id": "Dq5scJLSK5PU"
   },
   "outputs": [],
   "source": [
    "# Group by PtID and calculate the number of unique days\n",
    "unique_days = cgm_df.groupby(\"PtID\")[\"time\"].apply(lambda x: x.dt.normalize().nunique())"
   ]
  },
  {
   "cell_type": "code",
   "execution_count": 45,
   "metadata": {
    "id": "TZZD_6kEK9N8"
   },
   "outputs": [],
   "source": [
    "# Reset index of date_diff to make 'id' a column\n",
    "unique_days = unique_days.reset_index()\n",
    "\n",
    "# Rename the 'time' column (which represents the date difference)\n",
    "# to something more descriptive, like 'date_diff'\n",
    "unique_days = unique_days.rename(columns={\"time\": \"unique_days\"})\n",
    "\n",
    "# Now, merge date_diff with cgm using 'id' as the key\n",
    "cgm_df = pd.merge(cgm_df, unique_days, on=\"PtID\", how=\"left\")"
   ]
  },
  {
   "cell_type": "code",
   "execution_count": 46,
   "metadata": {
    "colab": {
     "base_uri": "https://localhost:8080/",
     "height": 206
    },
    "executionInfo": {
     "elapsed": 21,
     "status": "ok",
     "timestamp": 1746511471921,
     "user": {
      "displayName": "So Dude",
      "userId": "04035097424418043678"
     },
     "user_tz": -480
    },
    "id": "9KtdRmlZL_d3",
    "outputId": "67962c72-2154-46be-b371-61fe6077a343"
   },
   "outputs": [
    {
     "data": {
      "application/vnd.microsoft.datawrangler.viewer.v0+json": {
       "columns": [
        {
         "name": "index",
         "rawType": "int64",
         "type": "integer"
        },
        {
         "name": "PtID",
         "rawType": "int32",
         "type": "integer"
        },
        {
         "name": "Period",
         "rawType": "object",
         "type": "string"
        },
        {
         "name": "DataDtTm",
         "rawType": "object",
         "type": "string"
        },
        {
         "name": "CGM",
         "rawType": "object",
         "type": "string"
        },
        {
         "name": "time",
         "rawType": "datetime64[ns]",
         "type": "datetime"
        },
        {
         "name": "date_diff",
         "rawType": "int64",
         "type": "integer"
        },
        {
         "name": "unique_days",
         "rawType": "int64",
         "type": "integer"
        }
       ],
       "ref": "a5d443ed-6bf5-4b83-97f7-14b496640240",
       "rows": [
        [
         "0",
         "5001",
         "1. Baseline",
         "11DEC17 23:59:25",
         "172",
         "2017-12-11 23:59:25",
         "203",
         "204"
        ],
        [
         "1",
         "5001",
         "1. Baseline",
         "12DEC17 00:04:24",
         "170",
         "2017-12-12 00:04:24",
         "203",
         "204"
        ],
        [
         "2",
         "5001",
         "1. Baseline",
         "12DEC17 00:09:24",
         "167",
         "2017-12-12 00:09:24",
         "203",
         "204"
        ],
        [
         "3",
         "5001",
         "1. Baseline",
         "12DEC17 00:14:25",
         "163",
         "2017-12-12 00:14:25",
         "203",
         "204"
        ],
        [
         "4",
         "5001",
         "1. Baseline",
         "12DEC17 00:19:25",
         "160",
         "2017-12-12 00:19:25",
         "203",
         "204"
        ]
       ],
       "shape": {
        "columns": 7,
        "rows": 5
       }
      },
      "text/html": [
       "<div>\n",
       "<style scoped>\n",
       "    .dataframe tbody tr th:only-of-type {\n",
       "        vertical-align: middle;\n",
       "    }\n",
       "\n",
       "    .dataframe tbody tr th {\n",
       "        vertical-align: top;\n",
       "    }\n",
       "\n",
       "    .dataframe thead th {\n",
       "        text-align: right;\n",
       "    }\n",
       "</style>\n",
       "<table border=\"1\" class=\"dataframe\">\n",
       "  <thead>\n",
       "    <tr style=\"text-align: right;\">\n",
       "      <th></th>\n",
       "      <th>PtID</th>\n",
       "      <th>Period</th>\n",
       "      <th>DataDtTm</th>\n",
       "      <th>CGM</th>\n",
       "      <th>time</th>\n",
       "      <th>date_diff</th>\n",
       "      <th>unique_days</th>\n",
       "    </tr>\n",
       "  </thead>\n",
       "  <tbody>\n",
       "    <tr>\n",
       "      <th>0</th>\n",
       "      <td>5001</td>\n",
       "      <td>1. Baseline</td>\n",
       "      <td>11DEC17 23:59:25</td>\n",
       "      <td>172</td>\n",
       "      <td>2017-12-11 23:59:25</td>\n",
       "      <td>203</td>\n",
       "      <td>204</td>\n",
       "    </tr>\n",
       "    <tr>\n",
       "      <th>1</th>\n",
       "      <td>5001</td>\n",
       "      <td>1. Baseline</td>\n",
       "      <td>12DEC17 00:04:24</td>\n",
       "      <td>170</td>\n",
       "      <td>2017-12-12 00:04:24</td>\n",
       "      <td>203</td>\n",
       "      <td>204</td>\n",
       "    </tr>\n",
       "    <tr>\n",
       "      <th>2</th>\n",
       "      <td>5001</td>\n",
       "      <td>1. Baseline</td>\n",
       "      <td>12DEC17 00:09:24</td>\n",
       "      <td>167</td>\n",
       "      <td>2017-12-12 00:09:24</td>\n",
       "      <td>203</td>\n",
       "      <td>204</td>\n",
       "    </tr>\n",
       "    <tr>\n",
       "      <th>3</th>\n",
       "      <td>5001</td>\n",
       "      <td>1. Baseline</td>\n",
       "      <td>12DEC17 00:14:25</td>\n",
       "      <td>163</td>\n",
       "      <td>2017-12-12 00:14:25</td>\n",
       "      <td>203</td>\n",
       "      <td>204</td>\n",
       "    </tr>\n",
       "    <tr>\n",
       "      <th>4</th>\n",
       "      <td>5001</td>\n",
       "      <td>1. Baseline</td>\n",
       "      <td>12DEC17 00:19:25</td>\n",
       "      <td>160</td>\n",
       "      <td>2017-12-12 00:19:25</td>\n",
       "      <td>203</td>\n",
       "      <td>204</td>\n",
       "    </tr>\n",
       "  </tbody>\n",
       "</table>\n",
       "</div>"
      ],
      "text/plain": [
       "   PtID       Period          DataDtTm  CGM                time  date_diff  \\\n",
       "0  5001  1. Baseline  11DEC17 23:59:25  172 2017-12-11 23:59:25        203   \n",
       "1  5001  1. Baseline  12DEC17 00:04:24  170 2017-12-12 00:04:24        203   \n",
       "2  5001  1. Baseline  12DEC17 00:09:24  167 2017-12-12 00:09:24        203   \n",
       "3  5001  1. Baseline  12DEC17 00:14:25  163 2017-12-12 00:14:25        203   \n",
       "4  5001  1. Baseline  12DEC17 00:19:25  160 2017-12-12 00:19:25        203   \n",
       "\n",
       "   unique_days  \n",
       "0          204  \n",
       "1          204  \n",
       "2          204  \n",
       "3          204  \n",
       "4          204  "
      ]
     },
     "execution_count": 46,
     "metadata": {},
     "output_type": "execute_result"
    }
   ],
   "source": [
    "cgm_df.head()"
   ]
  },
  {
   "cell_type": "code",
   "execution_count": 47,
   "metadata": {
    "id": "u8i8bXTKLCDT"
   },
   "outputs": [],
   "source": [
    "# no data len<= 1 day\n",
    "cgm_df[\"wearing_ratio\"] = cgm_df[\"unique_days\"] / cgm_df[\"date_diff\"]\n",
    "cgm_df[\"enough_data\"] = cgm_df[\"wearing_ratio\"] >= 0.7"
   ]
  },
  {
   "cell_type": "code",
   "execution_count": 48,
   "metadata": {
    "colab": {
     "base_uri": "https://localhost:8080/",
     "height": 53
    },
    "executionInfo": {
     "elapsed": 66,
     "status": "ok",
     "timestamp": 1746511520091,
     "user": {
      "displayName": "So Dude",
      "userId": "04035097424418043678"
     },
     "user_tz": -480
    },
    "id": "5BqeiULvLCel",
    "outputId": "55050178-1199-45f6-d276-c722018ee36a"
   },
   "outputs": [
    {
     "data": {
      "application/vnd.microsoft.datawrangler.viewer.v0+json": {
       "columns": [
        {
         "name": "index",
         "rawType": "int64",
         "type": "integer"
        },
        {
         "name": "PtID",
         "rawType": "int32",
         "type": "integer"
        },
        {
         "name": "Period",
         "rawType": "object",
         "type": "string"
        },
        {
         "name": "DataDtTm",
         "rawType": "object",
         "type": "string"
        },
        {
         "name": "CGM",
         "rawType": "object",
         "type": "string"
        },
        {
         "name": "time",
         "rawType": "datetime64[ns]",
         "type": "datetime"
        },
        {
         "name": "date_diff",
         "rawType": "int64",
         "type": "integer"
        },
        {
         "name": "unique_days",
         "rawType": "int64",
         "type": "integer"
        },
        {
         "name": "wearing_ratio",
         "rawType": "float64",
         "type": "float"
        },
        {
         "name": "enough_data",
         "rawType": "bool",
         "type": "boolean"
        }
       ],
       "ref": "02fbbdd6-eb68-46d2-af58-04183cfe1d04",
       "rows": [],
       "shape": {
        "columns": 9,
        "rows": 0
       }
      },
      "text/html": [
       "<div>\n",
       "<style scoped>\n",
       "    .dataframe tbody tr th:only-of-type {\n",
       "        vertical-align: middle;\n",
       "    }\n",
       "\n",
       "    .dataframe tbody tr th {\n",
       "        vertical-align: top;\n",
       "    }\n",
       "\n",
       "    .dataframe thead th {\n",
       "        text-align: right;\n",
       "    }\n",
       "</style>\n",
       "<table border=\"1\" class=\"dataframe\">\n",
       "  <thead>\n",
       "    <tr style=\"text-align: right;\">\n",
       "      <th></th>\n",
       "      <th>PtID</th>\n",
       "      <th>Period</th>\n",
       "      <th>DataDtTm</th>\n",
       "      <th>CGM</th>\n",
       "      <th>time</th>\n",
       "      <th>date_diff</th>\n",
       "      <th>unique_days</th>\n",
       "      <th>wearing_ratio</th>\n",
       "      <th>enough_data</th>\n",
       "    </tr>\n",
       "  </thead>\n",
       "  <tbody>\n",
       "  </tbody>\n",
       "</table>\n",
       "</div>"
      ],
      "text/plain": [
       "Empty DataFrame\n",
       "Columns: [PtID, Period, DataDtTm, CGM, time, date_diff, unique_days, wearing_ratio, enough_data]\n",
       "Index: []"
      ]
     },
     "execution_count": 48,
     "metadata": {},
     "output_type": "execute_result"
    }
   ],
   "source": [
    "cgm_df[cgm_df[\"unique_days\"] - cgm_df[\"date_diff\"] > 1]"
   ]
  },
  {
   "cell_type": "code",
   "execution_count": 49,
   "metadata": {
    "colab": {
     "base_uri": "https://localhost:8080/",
     "height": 206
    },
    "executionInfo": {
     "elapsed": 66,
     "status": "ok",
     "timestamp": 1746511545785,
     "user": {
      "displayName": "So Dude",
      "userId": "04035097424418043678"
     },
     "user_tz": -480
    },
    "id": "IcjbWuueMx-K",
    "outputId": "94993e38-304e-42cd-f961-a448192a55af"
   },
   "outputs": [
    {
     "data": {
      "application/vnd.microsoft.datawrangler.viewer.v0+json": {
       "columns": [
        {
         "name": "index",
         "rawType": "int64",
         "type": "integer"
        },
        {
         "name": "PtID",
         "rawType": "int32",
         "type": "integer"
        },
        {
         "name": "Period",
         "rawType": "object",
         "type": "string"
        },
        {
         "name": "DataDtTm",
         "rawType": "object",
         "type": "string"
        },
        {
         "name": "CGM",
         "rawType": "object",
         "type": "string"
        },
        {
         "name": "time",
         "rawType": "datetime64[ns]",
         "type": "datetime"
        },
        {
         "name": "date_diff",
         "rawType": "int64",
         "type": "integer"
        },
        {
         "name": "unique_days",
         "rawType": "int64",
         "type": "integer"
        },
        {
         "name": "wearing_ratio",
         "rawType": "float64",
         "type": "float"
        },
        {
         "name": "enough_data",
         "rawType": "bool",
         "type": "boolean"
        }
       ],
       "ref": "31acebe2-7ea2-415a-831b-bcea3544798b",
       "rows": [
        [
         "0",
         "5001",
         "1. Baseline",
         "11DEC17 23:59:25",
         "172",
         "2017-12-11 23:59:25",
         "203",
         "204",
         "1.0049261083743843",
         "True"
        ],
        [
         "1",
         "5001",
         "1. Baseline",
         "12DEC17 00:04:24",
         "170",
         "2017-12-12 00:04:24",
         "203",
         "204",
         "1.0049261083743843",
         "True"
        ],
        [
         "2",
         "5001",
         "1. Baseline",
         "12DEC17 00:09:24",
         "167",
         "2017-12-12 00:09:24",
         "203",
         "204",
         "1.0049261083743843",
         "True"
        ],
        [
         "3",
         "5001",
         "1. Baseline",
         "12DEC17 00:14:25",
         "163",
         "2017-12-12 00:14:25",
         "203",
         "204",
         "1.0049261083743843",
         "True"
        ],
        [
         "4",
         "5001",
         "1. Baseline",
         "12DEC17 00:19:25",
         "160",
         "2017-12-12 00:19:25",
         "203",
         "204",
         "1.0049261083743843",
         "True"
        ]
       ],
       "shape": {
        "columns": 9,
        "rows": 5
       }
      },
      "text/html": [
       "<div>\n",
       "<style scoped>\n",
       "    .dataframe tbody tr th:only-of-type {\n",
       "        vertical-align: middle;\n",
       "    }\n",
       "\n",
       "    .dataframe tbody tr th {\n",
       "        vertical-align: top;\n",
       "    }\n",
       "\n",
       "    .dataframe thead th {\n",
       "        text-align: right;\n",
       "    }\n",
       "</style>\n",
       "<table border=\"1\" class=\"dataframe\">\n",
       "  <thead>\n",
       "    <tr style=\"text-align: right;\">\n",
       "      <th></th>\n",
       "      <th>PtID</th>\n",
       "      <th>Period</th>\n",
       "      <th>DataDtTm</th>\n",
       "      <th>CGM</th>\n",
       "      <th>time</th>\n",
       "      <th>date_diff</th>\n",
       "      <th>unique_days</th>\n",
       "      <th>wearing_ratio</th>\n",
       "      <th>enough_data</th>\n",
       "    </tr>\n",
       "  </thead>\n",
       "  <tbody>\n",
       "    <tr>\n",
       "      <th>0</th>\n",
       "      <td>5001</td>\n",
       "      <td>1. Baseline</td>\n",
       "      <td>11DEC17 23:59:25</td>\n",
       "      <td>172</td>\n",
       "      <td>2017-12-11 23:59:25</td>\n",
       "      <td>203</td>\n",
       "      <td>204</td>\n",
       "      <td>1.004926</td>\n",
       "      <td>True</td>\n",
       "    </tr>\n",
       "    <tr>\n",
       "      <th>1</th>\n",
       "      <td>5001</td>\n",
       "      <td>1. Baseline</td>\n",
       "      <td>12DEC17 00:04:24</td>\n",
       "      <td>170</td>\n",
       "      <td>2017-12-12 00:04:24</td>\n",
       "      <td>203</td>\n",
       "      <td>204</td>\n",
       "      <td>1.004926</td>\n",
       "      <td>True</td>\n",
       "    </tr>\n",
       "    <tr>\n",
       "      <th>2</th>\n",
       "      <td>5001</td>\n",
       "      <td>1. Baseline</td>\n",
       "      <td>12DEC17 00:09:24</td>\n",
       "      <td>167</td>\n",
       "      <td>2017-12-12 00:09:24</td>\n",
       "      <td>203</td>\n",
       "      <td>204</td>\n",
       "      <td>1.004926</td>\n",
       "      <td>True</td>\n",
       "    </tr>\n",
       "    <tr>\n",
       "      <th>3</th>\n",
       "      <td>5001</td>\n",
       "      <td>1. Baseline</td>\n",
       "      <td>12DEC17 00:14:25</td>\n",
       "      <td>163</td>\n",
       "      <td>2017-12-12 00:14:25</td>\n",
       "      <td>203</td>\n",
       "      <td>204</td>\n",
       "      <td>1.004926</td>\n",
       "      <td>True</td>\n",
       "    </tr>\n",
       "    <tr>\n",
       "      <th>4</th>\n",
       "      <td>5001</td>\n",
       "      <td>1. Baseline</td>\n",
       "      <td>12DEC17 00:19:25</td>\n",
       "      <td>160</td>\n",
       "      <td>2017-12-12 00:19:25</td>\n",
       "      <td>203</td>\n",
       "      <td>204</td>\n",
       "      <td>1.004926</td>\n",
       "      <td>True</td>\n",
       "    </tr>\n",
       "  </tbody>\n",
       "</table>\n",
       "</div>"
      ],
      "text/plain": [
       "   PtID       Period          DataDtTm  CGM                time  date_diff  \\\n",
       "0  5001  1. Baseline  11DEC17 23:59:25  172 2017-12-11 23:59:25        203   \n",
       "1  5001  1. Baseline  12DEC17 00:04:24  170 2017-12-12 00:04:24        203   \n",
       "2  5001  1. Baseline  12DEC17 00:09:24  167 2017-12-12 00:09:24        203   \n",
       "3  5001  1. Baseline  12DEC17 00:14:25  163 2017-12-12 00:14:25        203   \n",
       "4  5001  1. Baseline  12DEC17 00:19:25  160 2017-12-12 00:19:25        203   \n",
       "\n",
       "   unique_days  wearing_ratio  enough_data  \n",
       "0          204       1.004926         True  \n",
       "1          204       1.004926         True  \n",
       "2          204       1.004926         True  \n",
       "3          204       1.004926         True  \n",
       "4          204       1.004926         True  "
      ]
     },
     "execution_count": 49,
     "metadata": {},
     "output_type": "execute_result"
    }
   ],
   "source": [
    "cgm_df.head()"
   ]
  },
  {
   "cell_type": "code",
   "execution_count": 50,
   "metadata": {
    "id": "kKHDLSKILEZ7"
   },
   "outputs": [],
   "source": [
    "cgm_filtered = cgm_df[cgm_df[\"enough_data\"] == True]"
   ]
  },
  {
   "cell_type": "code",
   "execution_count": 51,
   "metadata": {
    "id": "eM5Ozs8-LG_c"
   },
   "outputs": [],
   "source": [
    "cgm_filtered = cgm_filtered.rename(columns={\"PtID\": \"id\", \"CGM\": \"gl\"})"
   ]
  },
  {
   "cell_type": "code",
   "execution_count": 52,
   "metadata": {
    "id": "034_8OiiLNXm"
   },
   "outputs": [],
   "source": [
    "# filter out rows with time or gl is na\n",
    "cgm_filtered = cgm_filtered.dropna(subset=[\"time\", \"gl\"])"
   ]
  },
  {
   "cell_type": "code",
   "execution_count": 53,
   "metadata": {
    "id": "ollgAMSXLP1b"
   },
   "outputs": [],
   "source": [
    "cgm_filtered.to_csv(\"brown2019_filtered_new.csv\", index=False)"
   ]
  }
 ],
 "metadata": {
  "colab": {
   "provenance": []
  },
  "kernelspec": {
   "display_name": "dl",
   "language": "python",
   "name": "python3"
  },
  "language_info": {
   "codemirror_mode": {
    "name": "ipython",
    "version": 3
   },
   "file_extension": ".py",
   "mimetype": "text/x-python",
   "name": "python",
   "nbconvert_exporter": "python",
   "pygments_lexer": "ipython3",
   "version": "3.9.21"
  }
 },
 "nbformat": 4,
 "nbformat_minor": 0
}
