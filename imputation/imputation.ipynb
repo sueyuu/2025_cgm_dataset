{
 "cells": [
  {
   "cell_type": "code",
   "execution_count": 2,
   "id": "250b5c9a",
   "metadata": {
    "executionInfo": {
     "elapsed": 7548,
     "status": "ok",
     "timestamp": 1746877309161,
     "user": {
      "displayName": "So Dude",
      "userId": "04035097424418043678"
     },
     "user_tz": -480
    },
    "id": "250b5c9a"
   },
   "outputs": [],
   "source": [
    "import pandas as pd\n",
    "from sklearn.impute import KNNImputer\n",
    "from sklearn.preprocessing import OrdinalEncoder\n",
    "import numpy as np"
   ]
  },
  {
   "cell_type": "code",
   "execution_count": 3,
   "id": "413a6230",
   "metadata": {
    "executionInfo": {
     "elapsed": 82,
     "status": "ok",
     "timestamp": 1746877318090,
     "user": {
      "displayName": "So Dude",
      "userId": "04035097424418043678"
     },
     "user_tz": -480
    },
    "id": "413a6230"
   },
   "outputs": [],
   "source": [
    "df = pd.read_csv(\"Lynch2022_demographic.csv\")"
   ]
  },
  {
   "cell_type": "code",
   "execution_count": 4,
   "id": "1505dda0",
   "metadata": {},
   "outputs": [],
   "source": [
    "def change_to_label(rows):\n",
    "    label = -1\n",
    "    # label sex\n",
    "    if pd.isna(rows[\"Sex\"]):\n",
    "        label = 9\n",
    "    elif rows[\"Sex\"] == \"F\":\n",
    "        label = 1\n",
    "    elif rows[\"Sex\"] == \"M\":\n",
    "        label = 2\n",
    "    else:\n",
    "        label = 9\n",
    "    label *= 10\n",
    "\n",
    "    # label age\n",
    "    if pd.isna(rows[\"age_group\"]):\n",
    "        label += 9\n",
    "    elif rows[\"age_group\"] == \"<10\":\n",
    "        label += 0\n",
    "    elif rows[\"age_group\"] == \"<20\":\n",
    "        label += 1\n",
    "    elif rows[\"age_group\"] == \"20-65\":\n",
    "        label += 2\n",
    "    elif rows[\"age_group\"] == \"≥65\":\n",
    "        label += 3\n",
    "    else:\n",
    "        label += 9\n",
    "    label *= 10\n",
    "\n",
    "    # label treatment group\n",
    "    if pd.isna(rows[\"treatment_group\"]):\n",
    "        label += 9\n",
    "    elif rows[\"treatment_group\"] == \"MDI\":\n",
    "        label += 0\n",
    "    elif rows[\"treatment_group\"] == \"Basic Pump\":\n",
    "        label += 1\n",
    "    elif rows[\"treatment_group\"] == \"SAP\":\n",
    "        label += 2\n",
    "    elif rows[\"treatment_group\"] == \"CLP\":\n",
    "        label += 3\n",
    "    elif rows[\"treatment_group\"] == \"BP\":\n",
    "        label += 4\n",
    "    else:\n",
    "        label += 9\n",
    "\n",
    "    label *= 10\n",
    "\n",
    "    # label a1c group\n",
    "    if pd.isna(rows[\"a1c_mean_group\"]):\n",
    "        label += 9\n",
    "    elif rows[\"a1c_mean_group\"] == \"<7\":\n",
    "        label += 0\n",
    "    elif rows[\"a1c_mean_group\"] == \"<8.5\":\n",
    "        label += 1\n",
    "    elif rows[\"a1c_mean_group\"] == \"≥8.5\":\n",
    "        label += 2\n",
    "    else:\n",
    "        label += 9\n",
    "\n",
    "    return label"
   ]
  },
  {
   "cell_type": "code",
   "execution_count": 5,
   "id": "9stGLS4UBq4o",
   "metadata": {
    "executionInfo": {
     "elapsed": 64,
     "status": "ok",
     "timestamp": 1746878267950,
     "user": {
      "displayName": "So Dude",
      "userId": "04035097424418043678"
     },
     "user_tz": -480
    },
    "id": "9stGLS4UBq4o"
   },
   "outputs": [],
   "source": [
    "df[\"non_imputed_label\"] = df.apply(change_to_label, axis=1)"
   ]
  },
  {
   "cell_type": "markdown",
   "id": "R-JJNQ-_ApB0",
   "metadata": {
    "id": "R-JJNQ-_ApB0"
   },
   "source": [
    "#imputation"
   ]
  },
  {
   "cell_type": "code",
   "execution_count": 6,
   "id": "234dee09",
   "metadata": {},
   "outputs": [],
   "source": [
    "df_needed = df[[\"PtID\", \"AgeAsofEnrollDt\", \"Sex\", \"treatment_group\", \"hba1c\"]].copy()\n",
    "\n",
    "df_needed = df_needed.reset_index(drop=True)\n",
    "\n",
    "df_needed[\"treatment_group\"] = df_needed[\"treatment_group\"].replace(\n",
    "    {\n",
    "        \"Basic Pump/SAP\": pd.NA,\n",
    "    }\n",
    ")\n",
    "\n",
    "\n",
    "df_needed = df_needed.replace({pd.NA: np.nan})"
   ]
  },
  {
   "cell_type": "code",
   "execution_count": 7,
   "id": "6589adee",
   "metadata": {},
   "outputs": [],
   "source": [
    "from sklearn.preprocessing import StandardScaler\n",
    "\n",
    "# Sample DataFrame\n",
    "numeric_df = df_needed[[\"AgeAsofEnrollDt\", \"hba1c\"]]\n",
    "\n",
    "# Initialize the scaler\n",
    "scaler = StandardScaler()\n",
    "\n",
    "# Normalize the data\n",
    "normalized_data = scaler.fit_transform(numeric_df)\n",
    "\n",
    "# Convert back to DataFrame\n",
    "normalized_df = pd.DataFrame(normalized_data, columns=numeric_df.columns)"
   ]
  },
  {
   "cell_type": "code",
   "execution_count": 8,
   "id": "3e9987b7",
   "metadata": {
    "executionInfo": {
     "elapsed": 118,
     "status": "ok",
     "timestamp": 1746878704849,
     "user": {
      "displayName": "So Dude",
      "userId": "04035097424418043678"
     },
     "user_tz": -480
    },
    "id": "3e9987b7"
   },
   "outputs": [],
   "source": [
    "# Encode categorical features\n",
    "encoder = OrdinalEncoder()"
   ]
  },
  {
   "cell_type": "code",
   "execution_count": 9,
   "id": "abc7e12d",
   "metadata": {
    "executionInfo": {
     "elapsed": 82,
     "status": "ok",
     "timestamp": 1746878706337,
     "user": {
      "displayName": "So Dude",
      "userId": "04035097424418043678"
     },
     "user_tz": -480
    },
    "id": "abc7e12d"
   },
   "outputs": [],
   "source": [
    "df_category = df_needed[[\"Sex\", \"treatment_group\"]]\n",
    "df_category_encoded = pd.DataFrame(\n",
    "    encoder.fit_transform(df_category), columns=df_category.columns\n",
    ")"
   ]
  },
  {
   "cell_type": "code",
   "execution_count": 10,
   "id": "708487ea",
   "metadata": {},
   "outputs": [
    {
     "data": {
      "text/plain": [
       "[array(['F', 'M'], dtype=object),\n",
       " array(['BP', 'Basic Pump', 'CLP', 'MDI', 'SAP', nan], dtype=object)]"
      ]
     },
     "execution_count": 10,
     "metadata": {},
     "output_type": "execute_result"
    }
   ],
   "source": [
    "encoder.categories_"
   ]
  },
  {
   "cell_type": "code",
   "execution_count": 11,
   "id": "fae74ffa",
   "metadata": {},
   "outputs": [],
   "source": [
    "df_other = pd.merge(\n",
    "    normalized_df, df_category_encoded, left_index=True, right_index=True\n",
    ")"
   ]
  },
  {
   "cell_type": "code",
   "execution_count": 12,
   "id": "f96aae54",
   "metadata": {
    "executionInfo": {
     "elapsed": 60,
     "status": "ok",
     "timestamp": 1746878280711,
     "user": {
      "displayName": "So Dude",
      "userId": "04035097424418043678"
     },
     "user_tz": -480
    },
    "id": "f96aae54"
   },
   "outputs": [],
   "source": [
    "imputer = KNNImputer(n_neighbors=3)"
   ]
  },
  {
   "cell_type": "code",
   "execution_count": 13,
   "id": "37d631d6",
   "metadata": {
    "executionInfo": {
     "elapsed": 110,
     "status": "ok",
     "timestamp": 1746878285516,
     "user": {
      "displayName": "So Dude",
      "userId": "04035097424418043678"
     },
     "user_tz": -480
    },
    "id": "37d631d6"
   },
   "outputs": [],
   "source": [
    "df_imputed = pd.DataFrame(imputer.fit_transform(df_other), columns=df_other.columns)"
   ]
  },
  {
   "cell_type": "code",
   "execution_count": 14,
   "id": "ec6d4fbf",
   "metadata": {
    "executionInfo": {
     "elapsed": 44,
     "status": "ok",
     "timestamp": 1746878287181,
     "user": {
      "displayName": "So Dude",
      "userId": "04035097424418043678"
     },
     "user_tz": -480
    },
    "id": "ec6d4fbf"
   },
   "outputs": [],
   "source": [
    "# Decode back to original categories\n",
    "df_imputed_category = df_imputed[[\"Sex\", \"treatment_group\"]]\n",
    "\n",
    "\n",
    "df_final_category = pd.DataFrame(\n",
    "    encoder.inverse_transform(df_imputed_category), columns=df_imputed_category.columns\n",
    ")"
   ]
  },
  {
   "cell_type": "code",
   "execution_count": null,
   "id": "23135bd2",
   "metadata": {},
   "outputs": [],
   "source": [
    "#df_imputed_numeric = df_imputed[[\"AgeAsofEnrollDt\", \"avg_hba1c\"]]\n",
    "# Reverse normalization\n",
    "#denormalized_data = scaler.inverse_transform(df_imputed_numeric)\n",
    "\n",
    "# Convert back to DataFrame\n",
    "#denormalized_df = pd.DataFrame(denormalized_data, columns=df_imputed_numeric.columns)"
   ]
  },
  {
   "cell_type": "code",
   "execution_count": 15,
   "id": "67f7b111",
   "metadata": {},
   "outputs": [],
   "source": [
    "df_id = df_needed[[\"PtID\"]]\n",
    "df_final = pd.merge(df_id, df_final_category, left_index=True, right_index=True)"
   ]
  },
  {
   "cell_type": "code",
   "execution_count": 16,
   "id": "f236977c",
   "metadata": {
    "executionInfo": {
     "elapsed": 66,
     "status": "ok",
     "timestamp": 1746878300176,
     "user": {
      "displayName": "So Dude",
      "userId": "04035097424418043678"
     },
     "user_tz": -480
    },
    "id": "f236977c"
   },
   "outputs": [],
   "source": [
    "df = df.merge(\n",
    "    df_final,\n",
    "    on=[\"PtID\"],\n",
    "    suffixes=(\"_old\", \"\"),\n",
    "    how=\"left\",\n",
    ")"
   ]
  },
  {
   "cell_type": "code",
   "execution_count": 17,
   "id": "ba56f1d7",
   "metadata": {
    "executionInfo": {
     "elapsed": 53,
     "status": "ok",
     "timestamp": 1746878392964,
     "user": {
      "displayName": "So Dude",
      "userId": "04035097424418043678"
     },
     "user_tz": -480
    },
    "id": "ba56f1d7"
   },
   "outputs": [],
   "source": [
    "df_old_columns = df_final.columns[1:]\n",
    "df_old_columns = [c + \"_old\" for c in df_old_columns]"
   ]
  },
  {
   "cell_type": "code",
   "execution_count": 18,
   "id": "7644270f",
   "metadata": {
    "executionInfo": {
     "elapsed": 51,
     "status": "ok",
     "timestamp": 1746878394142,
     "user": {
      "displayName": "So Dude",
      "userId": "04035097424418043678"
     },
     "user_tz": -480
    },
    "id": "7644270f"
   },
   "outputs": [],
   "source": [
    "df.drop(columns=df_old_columns, inplace=True)"
   ]
  },
  {
   "cell_type": "code",
   "execution_count": 20,
   "id": "3ec701ba",
   "metadata": {
    "executionInfo": {
     "elapsed": 66,
     "status": "ok",
     "timestamp": 1746878800999,
     "user": {
      "displayName": "So Dude",
      "userId": "04035097424418043678"
     },
     "user_tz": -480
    },
    "id": "3ec701ba"
   },
   "outputs": [],
   "source": [
    "df[\"label\"] = df.apply(change_to_label, axis=1)"
   ]
  },
  {
   "cell_type": "code",
   "execution_count": 21,
   "id": "7a78c569",
   "metadata": {
    "id": "7a78c569"
   },
   "outputs": [],
   "source": [
    "df_segment = pd.read_csv(\"lynch2022_subject_segment_summary.csv\")"
   ]
  },
  {
   "cell_type": "code",
   "execution_count": 22,
   "id": "67fc6d04",
   "metadata": {
    "id": "67fc6d04"
   },
   "outputs": [],
   "source": [
    "df_segment = df_segment[[\"SubjectID\", \">=7_days\"]]"
   ]
  },
  {
   "cell_type": "code",
   "execution_count": 23,
   "id": "fec2fe0f",
   "metadata": {
    "id": "fec2fe0f"
   },
   "outputs": [],
   "source": [
    "df_merged = df.merge(\n",
    "    df_segment,\n",
    "    left_on=\"PtID\",\n",
    "    right_on=\"SubjectID\",\n",
    "    how=\"left\",\n",
    ")"
   ]
  },
  {
   "cell_type": "code",
   "execution_count": 24,
   "id": "0720a763",
   "metadata": {
    "id": "0720a763"
   },
   "outputs": [],
   "source": [
    "# use only filter in rows\n",
    "df_merged = df_merged[df_merged[\">=7_days\"] == 1]"
   ]
  },
  {
   "cell_type": "code",
   "execution_count": 25,
   "id": "987b531a",
   "metadata": {
    "executionInfo": {
     "elapsed": 67,
     "status": "ok",
     "timestamp": 1746878866398,
     "user": {
      "displayName": "So Dude",
      "userId": "04035097424418043678"
     },
     "user_tz": -480
    },
    "id": "987b531a"
   },
   "outputs": [],
   "source": [
    "df_merged.to_csv(\"lynch_demographic_imputed_labeled.csv\", index=False)"
   ]
  }
 ],
 "metadata": {
  "colab": {
   "provenance": []
  },
  "kernelspec": {
   "display_name": "dl",
   "language": "python",
   "name": "python3"
  },
  "language_info": {
   "codemirror_mode": {
    "name": "ipython",
    "version": 3
   },
   "file_extension": ".py",
   "mimetype": "text/x-python",
   "name": "python",
   "nbconvert_exporter": "python",
   "pygments_lexer": "ipython3",
   "version": "3.9.21"
  }
 },
 "nbformat": 4,
 "nbformat_minor": 5
}
